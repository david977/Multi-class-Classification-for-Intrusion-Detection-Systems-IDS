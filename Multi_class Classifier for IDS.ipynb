{
 "cells": [
  {
   "cell_type": "markdown",
   "metadata": {},
   "source": [
    "### Evalution of Machine Learning Algorithms for IDS\n",
    "\n",
    "In this project, the different machine learning algorihtms are tested for predicting the cyber attacks. At end, the algorithms are compared and suggest the best one. The cyber attacks used  in this dataset are listed in the below section 1.Data and its overiew."
   ]
  },
  {
   "cell_type": "code",
   "execution_count": null,
   "metadata": {},
   "outputs": [],
   "source": []
  },
  {
   "cell_type": "markdown",
   "metadata": {},
   "source": [
    "### Table of Contents\n",
    "<a>1. Data </a><br>\n",
    "   &nbsp; &nbsp; <a>1.1 Data Overview</a>\n",
    "\n",
    "<a>2.Data pre-processing</a><br>\n",
    "  &nbsp; &nbsp; <a> 2.1 Missing Values</a><br>\n",
    "  &nbsp; &nbsp; <a> 2.2 Duplicate Values</a><br>\n",
    "  &nbsp; &nbsp; <a> 2.3 Categorize numeric features</a><br>\n",
    "  &nbsp; &nbsp; <a>2.4 Standardizing numeric features</a><br>\n",
    "  &nbsp; &nbsp; <a>2.5 Imbalanced Data</a><br>\n",
    "\n",
    "<a>3. Feature Selection</a><br>\n",
    "   &nbsp; &nbsp; <a>3.1 Chi-square test of Independence </a><br>\n",
    "   &nbsp; &nbsp; <a>3.2 Kruskal-Wallis H-test</a><br>\n",
    "   &nbsp; &nbsp; <a>3.3 Correlation Matrix</a><br>\n",
    "   &nbsp; &nbsp; <a>3.3.1 Significance of the correlation coefficient</a><br>\n",
    "   &nbsp; &nbsp; <a>3.4 Conclusion of Independent Tests</a><br>\n",
    "\n",
    "\n",
    "<a>4. Model Building</a><br>\n",
    "   &nbsp; &nbsp; <a>4.1 Baseline Model</a><br>\n",
    "   &nbsp; &nbsp; <a>4.1.1 Hyperparameters tuning</a><br>\n",
    "   &nbsp; &nbsp; <a>4.2.2 Threshold tuning</a><br>\n",
    "   &nbsp; &nbsp; <a>4.2.3 Evaluation</a><br>\n",
    "   \n",
    "   &nbsp; &nbsp; <a>4.2 Logistic Regression</a><br>\n",
    "   &nbsp; &nbsp; <a>4.2.1 Hyperparameters tuning</a><br>\n",
    "   &nbsp; &nbsp; <a>4.2.2 Threshold tuning</a><br>\n",
    "   &nbsp; &nbsp; <a>4.2.3 Evaluation</a><br>\n",
    "   \n",
    "   &nbsp; &nbsp; <a>4.3 Decision Tree</a><br>\n",
    "   &nbsp; &nbsp; <a>4.3.1 Hyperparameters tuning</a><br>\n",
    "   &nbsp; &nbsp; <a>4.3.2 Threshold tuning</a><br>\n",
    "   &nbsp; &nbsp; <a>4.3.3 Evaluation</a><br>\n",
    "   \n",
    "   &nbsp; &nbsp; <a>4.4 Random Forests Classifier</a><br>\n",
    "   &nbsp; &nbsp; <a>4.4.1 Hyperparameters tuning</a><br>\n",
    "   &nbsp; &nbsp; <a>4.4.2 Threshold tuning</a><br>\n",
    "   &nbsp; &nbsp; <a>4.4.3 Evaluation</a><br>\n",
    "   \n",
    "   &nbsp; &nbsp; <a>4.5 Support Vector Machine</a><br>\n",
    "   &nbsp; &nbsp; <a>4.5.1 Hyperparameters tuning</a><br>\n",
    "   &nbsp; &nbsp; <a>4.5.2 Threshold tuning</a><br>\n",
    "   &nbsp; &nbsp; <a>4.5.3 Evaluation</a><br>\n",
    "   \n",
    "   &nbsp; &nbsp; <a>4.6 XGBoost Classifier</a><br>\n",
    "   &nbsp; &nbsp; <a>4.6.1 Hyperparameters tuning</a><br>\n",
    "   &nbsp; &nbsp; <a>4.6.2 Threshold tuning</a><br>\n",
    "   &nbsp; &nbsp; <a>4.6.3 Evaluation</a><br>\n",
    "   \n",
    "   &nbsp; &nbsp; <a>4.7 KNN Classifierv</a><br>\n",
    "   &nbsp; &nbsp; <a>4.7.1 Hyperparameters tuning</a><br>\n",
    "   &nbsp; &nbsp; <a>4.7.2 Threshold tuning</a><br>\n",
    "   &nbsp; &nbsp; <a>4.7.3 Evaluation</a><br>\n",
    "   \n",
    "   &nbsp; &nbsp; <a>4.8 Gaussian Naive Bayes</a><br>\n",
    "   &nbsp; &nbsp; <a>4.8.1 Hyperparameters tuning</a><br>\n",
    "   &nbsp; &nbsp; <a>4.8.2 Threshold tuning</a><br>\n",
    "   &nbsp; &nbsp; <a>4.8.3 Evaluation</a><br>\n",
    "   \n",
    "   &nbsp; &nbsp; <a>4.9 GradienBoost Classifier</a><br>\n",
    "   &nbsp; &nbsp; <a>4.9.1 Hyperparameters tuning</a><br>\n",
    "   &nbsp; &nbsp; <a>4.9.2 Threshold tuning</a><br>\n",
    "   &nbsp; &nbsp; <a>4.9.3 Evaluation</a><br>\n",
    "   \n",
    "   &nbsp; &nbsp; <a>4.10 XBoost Classifier</a><br>\n",
    "   &nbsp; &nbsp; <a>4.10.1 Hyperparameters tuning</a><br>\n",
    "   &nbsp; &nbsp; <a>4.10.2 Threshold tuning</a><br>\n",
    "   &nbsp; &nbsp; <a>4.10.3 Evaluation</a><br>\n",
    "   \n",
    "   &nbsp; &nbsp; <a>4.11 XLight GBM Classifierr</a><br>\n",
    "   &nbsp; &nbsp; <a>4.11.1 Hyperparameters tuning</a><br>\n",
    "   &nbsp; &nbsp; <a>4.11.2 Threshold tuning</a><br>\n",
    "   &nbsp; &nbsp; <a>4.11.3 Evaluation</a><br>\n",
    "   \n",
    "\n",
    "<a>5. Conclusion</a>\n",
    "\n",
    "\n",
    "<a>In progress ..... </a>"
   ]
  },
  {
   "cell_type": "code",
   "execution_count": null,
   "metadata": {},
   "outputs": [],
   "source": []
  },
  {
   "cell_type": "code",
   "execution_count": 120,
   "metadata": {},
   "outputs": [],
   "source": [
    "# import necessary dependencies\n",
    "import pandas as pd\n",
    "import numpy as np\n",
    "import matplotlib.pyplot as plt"
   ]
  },
  {
   "cell_type": "markdown",
   "metadata": {},
   "source": [
    "### 1. Data\n",
    "\n",
    "\n",
    "\n"
   ]
  },
  {
   "cell_type": "code",
   "execution_count": 25,
   "metadata": {},
   "outputs": [],
   "source": [
    "# define function to load dataset\n",
    "def load_data(data, feat_name):\n",
    "    df= pd.read_csv(data, names=feat_name)\n",
    "    return df\n",
    "    "
   ]
  },
  {
   "cell_type": "code",
   "execution_count": 28,
   "metadata": {},
   "outputs": [],
   "source": [
    "# call function\n",
    "feature_names = ['duration','protocol-type', 'service','flag','src_bytes', 'dst_bytes', 'Land', 'wrong_fragment', 'urgent',\n",
    "                 'hot', 'num_failed_logins','login','num_compromised','root-shell', 'su_attempted', 'num_root', 'num_file_creattin',\n",
    "                'num_shells', 'num_access_files','num_outbound_cmds','is_hot_login','is_guest_login','count','srv_count','serror_rate',\n",
    "                'srv_serror_rate', 'rerror_rate', 'srv_rerror_rate', 'same_srv_rate', 'diff_srv_rate', 'srv_diff_host_rate', 'dst_host_count',\n",
    "                'dst_host_srv_count', 'dst_host_same_srv_rate', 'dst_host_diff_srv_rate', 'dst_host_same_src_port_rate', 'dst_host_srv_dff_host_rate',\n",
    "                'dst_host_serror_rate', 'dst_host_srv_serror_rate', 'dst_host_rerror_rate', 'dst_host_srv_rerror_rate', 'attack-type']\n",
    "test_data= load_data('Dataset/TestData.csv', feature_names)\n",
    "train_data = load_data('Dataset/TrainData.csv', feature_names)\n"
   ]
  },
  {
   "cell_type": "code",
   "execution_count": 72,
   "metadata": {},
   "outputs": [
    {
     "data": {
      "text/html": [
       "<div>\n",
       "<style scoped>\n",
       "    .dataframe tbody tr th:only-of-type {\n",
       "        vertical-align: middle;\n",
       "    }\n",
       "\n",
       "    .dataframe tbody tr th {\n",
       "        vertical-align: top;\n",
       "    }\n",
       "\n",
       "    .dataframe thead th {\n",
       "        text-align: right;\n",
       "    }\n",
       "</style>\n",
       "<table border=\"1\" class=\"dataframe\">\n",
       "  <thead>\n",
       "    <tr style=\"text-align: right;\">\n",
       "      <th></th>\n",
       "      <th>duration</th>\n",
       "      <th>protocol-type</th>\n",
       "      <th>service</th>\n",
       "      <th>flag</th>\n",
       "      <th>src_bytes</th>\n",
       "      <th>dst_bytes</th>\n",
       "      <th>Land</th>\n",
       "      <th>wrong_fragment</th>\n",
       "      <th>urgent</th>\n",
       "      <th>hot</th>\n",
       "      <th>...</th>\n",
       "      <th>dst_host_srv_count</th>\n",
       "      <th>dst_host_same_srv_rate</th>\n",
       "      <th>dst_host_diff_srv_rate</th>\n",
       "      <th>dst_host_same_src_port_rate</th>\n",
       "      <th>dst_host_srv_dff_host_rate</th>\n",
       "      <th>dst_host_serror_rate</th>\n",
       "      <th>dst_host_srv_serror_rate</th>\n",
       "      <th>dst_host_rerror_rate</th>\n",
       "      <th>dst_host_srv_rerror_rate</th>\n",
       "      <th>attack-type</th>\n",
       "    </tr>\n",
       "  </thead>\n",
       "  <tbody>\n",
       "    <tr>\n",
       "      <th>0</th>\n",
       "      <td>0</td>\n",
       "      <td>tcp</td>\n",
       "      <td>http</td>\n",
       "      <td>SF</td>\n",
       "      <td>325</td>\n",
       "      <td>1340</td>\n",
       "      <td>0</td>\n",
       "      <td>0</td>\n",
       "      <td>0</td>\n",
       "      <td>0</td>\n",
       "      <td>...</td>\n",
       "      <td>255</td>\n",
       "      <td>1.0</td>\n",
       "      <td>0.0</td>\n",
       "      <td>0.01</td>\n",
       "      <td>0.01</td>\n",
       "      <td>0.0</td>\n",
       "      <td>0.00</td>\n",
       "      <td>0.0</td>\n",
       "      <td>0.0</td>\n",
       "      <td>1</td>\n",
       "    </tr>\n",
       "    <tr>\n",
       "      <th>1</th>\n",
       "      <td>0</td>\n",
       "      <td>tcp</td>\n",
       "      <td>http</td>\n",
       "      <td>SF</td>\n",
       "      <td>256</td>\n",
       "      <td>13671</td>\n",
       "      <td>0</td>\n",
       "      <td>0</td>\n",
       "      <td>0</td>\n",
       "      <td>0</td>\n",
       "      <td>...</td>\n",
       "      <td>255</td>\n",
       "      <td>1.0</td>\n",
       "      <td>0.0</td>\n",
       "      <td>0.01</td>\n",
       "      <td>0.01</td>\n",
       "      <td>0.0</td>\n",
       "      <td>0.01</td>\n",
       "      <td>0.0</td>\n",
       "      <td>0.0</td>\n",
       "      <td>1</td>\n",
       "    </tr>\n",
       "    <tr>\n",
       "      <th>2</th>\n",
       "      <td>0</td>\n",
       "      <td>tcp</td>\n",
       "      <td>http</td>\n",
       "      <td>SF</td>\n",
       "      <td>246</td>\n",
       "      <td>1435</td>\n",
       "      <td>0</td>\n",
       "      <td>0</td>\n",
       "      <td>0</td>\n",
       "      <td>0</td>\n",
       "      <td>...</td>\n",
       "      <td>255</td>\n",
       "      <td>1.0</td>\n",
       "      <td>0.0</td>\n",
       "      <td>0.08</td>\n",
       "      <td>0.04</td>\n",
       "      <td>0.0</td>\n",
       "      <td>0.00</td>\n",
       "      <td>0.0</td>\n",
       "      <td>0.0</td>\n",
       "      <td>1</td>\n",
       "    </tr>\n",
       "    <tr>\n",
       "      <th>3</th>\n",
       "      <td>0</td>\n",
       "      <td>tcp</td>\n",
       "      <td>http</td>\n",
       "      <td>SF</td>\n",
       "      <td>195</td>\n",
       "      <td>174</td>\n",
       "      <td>0</td>\n",
       "      <td>0</td>\n",
       "      <td>0</td>\n",
       "      <td>0</td>\n",
       "      <td>...</td>\n",
       "      <td>255</td>\n",
       "      <td>1.0</td>\n",
       "      <td>0.0</td>\n",
       "      <td>0.25</td>\n",
       "      <td>0.02</td>\n",
       "      <td>0.0</td>\n",
       "      <td>0.00</td>\n",
       "      <td>0.0</td>\n",
       "      <td>0.0</td>\n",
       "      <td>1</td>\n",
       "    </tr>\n",
       "    <tr>\n",
       "      <th>4</th>\n",
       "      <td>0</td>\n",
       "      <td>tcp</td>\n",
       "      <td>http</td>\n",
       "      <td>SF</td>\n",
       "      <td>281</td>\n",
       "      <td>9525</td>\n",
       "      <td>0</td>\n",
       "      <td>0</td>\n",
       "      <td>0</td>\n",
       "      <td>0</td>\n",
       "      <td>...</td>\n",
       "      <td>255</td>\n",
       "      <td>1.0</td>\n",
       "      <td>0.0</td>\n",
       "      <td>0.00</td>\n",
       "      <td>0.02</td>\n",
       "      <td>0.0</td>\n",
       "      <td>0.00</td>\n",
       "      <td>0.0</td>\n",
       "      <td>0.0</td>\n",
       "      <td>1</td>\n",
       "    </tr>\n",
       "  </tbody>\n",
       "</table>\n",
       "<p>5 rows × 42 columns</p>\n",
       "</div>"
      ],
      "text/plain": [
       "   duration protocol-type service flag  src_bytes  dst_bytes  Land  \\\n",
       "0         0           tcp    http   SF        325       1340     0   \n",
       "1         0           tcp    http   SF        256      13671     0   \n",
       "2         0           tcp    http   SF        246       1435     0   \n",
       "3         0           tcp    http   SF        195        174     0   \n",
       "4         0           tcp    http   SF        281       9525     0   \n",
       "\n",
       "   wrong_fragment  urgent  hot  ...  dst_host_srv_count  \\\n",
       "0               0       0    0  ...                 255   \n",
       "1               0       0    0  ...                 255   \n",
       "2               0       0    0  ...                 255   \n",
       "3               0       0    0  ...                 255   \n",
       "4               0       0    0  ...                 255   \n",
       "\n",
       "   dst_host_same_srv_rate  dst_host_diff_srv_rate  \\\n",
       "0                     1.0                     0.0   \n",
       "1                     1.0                     0.0   \n",
       "2                     1.0                     0.0   \n",
       "3                     1.0                     0.0   \n",
       "4                     1.0                     0.0   \n",
       "\n",
       "   dst_host_same_src_port_rate  dst_host_srv_dff_host_rate  \\\n",
       "0                         0.01                        0.01   \n",
       "1                         0.01                        0.01   \n",
       "2                         0.08                        0.04   \n",
       "3                         0.25                        0.02   \n",
       "4                         0.00                        0.02   \n",
       "\n",
       "   dst_host_serror_rate  dst_host_srv_serror_rate  dst_host_rerror_rate  \\\n",
       "0                   0.0                      0.00                   0.0   \n",
       "1                   0.0                      0.01                   0.0   \n",
       "2                   0.0                      0.00                   0.0   \n",
       "3                   0.0                      0.00                   0.0   \n",
       "4                   0.0                      0.00                   0.0   \n",
       "\n",
       "   dst_host_srv_rerror_rate  attack-type  \n",
       "0                       0.0            1  \n",
       "1                       0.0            1  \n",
       "2                       0.0            1  \n",
       "3                       0.0            1  \n",
       "4                       0.0            1  \n",
       "\n",
       "[5 rows x 42 columns]"
      ]
     },
     "execution_count": 72,
     "metadata": {},
     "output_type": "execute_result"
    }
   ],
   "source": [
    "train_data.head()"
   ]
  },
  {
   "cell_type": "markdown",
   "metadata": {},
   "source": [
    "#### 1.1 Data Overview"
   ]
  },
  {
   "cell_type": "code",
   "execution_count": 44,
   "metadata": {},
   "outputs": [
    {
     "name": "stdout",
     "output_type": "stream",
     "text": [
      "No. of rows in Test data: 3094\n",
      "No. of columns in Test data: 42\n",
      "No. of rows in Test data: 5609\n",
      "No. of columns in Test data: 42\n",
      "\n",
      "Null values in test data: \n",
      " duration                       9\n",
      "protocol-type                  9\n",
      "service                        9\n",
      "flag                           9\n",
      "src_bytes                      9\n",
      "dst_bytes                      9\n",
      "Land                           9\n",
      "wrong_fragment                 9\n",
      "urgent                         9\n",
      "hot                            9\n",
      "num_failed_logins              9\n",
      "login                          9\n",
      "num_compromised                9\n",
      "root-shell                     9\n",
      "su_attempted                   9\n",
      "num_root                       9\n",
      "num_file_creattin              9\n",
      "num_shells                     9\n",
      "num_access_files               9\n",
      "num_outbound_cmds              9\n",
      "is_hot_login                   9\n",
      "is_guest_login                 9\n",
      "count                          9\n",
      "srv_count                      9\n",
      "serror_rate                    9\n",
      "srv_serror_rate                9\n",
      "rerror_rate                    9\n",
      "srv_rerror_rate                9\n",
      "same_srv_rate                  9\n",
      "diff_srv_rate                  9\n",
      "srv_diff_host_rate             9\n",
      "dst_host_count                 9\n",
      "dst_host_srv_count             9\n",
      "dst_host_same_srv_rate         9\n",
      "dst_host_diff_srv_rate         9\n",
      "dst_host_same_src_port_rate    9\n",
      "dst_host_srv_dff_host_rate     9\n",
      "dst_host_serror_rate           9\n",
      "dst_host_srv_serror_rate       9\n",
      "dst_host_rerror_rate           9\n",
      "dst_host_srv_rerror_rate       9\n",
      "attack-type                    9\n",
      "dtype: int64\n",
      "\n",
      "Null values in train data: \n",
      " duration                       0\n",
      "protocol-type                  0\n",
      "service                        0\n",
      "flag                           0\n",
      "src_bytes                      0\n",
      "dst_bytes                      0\n",
      "Land                           0\n",
      "wrong_fragment                 0\n",
      "urgent                         0\n",
      "hot                            0\n",
      "num_failed_logins              0\n",
      "login                          0\n",
      "num_compromised                0\n",
      "root-shell                     0\n",
      "su_attempted                   0\n",
      "num_root                       0\n",
      "num_file_creattin              0\n",
      "num_shells                     0\n",
      "num_access_files               0\n",
      "num_outbound_cmds              0\n",
      "is_hot_login                   0\n",
      "is_guest_login                 0\n",
      "count                          0\n",
      "srv_count                      0\n",
      "serror_rate                    0\n",
      "srv_serror_rate                0\n",
      "rerror_rate                    0\n",
      "srv_rerror_rate                0\n",
      "same_srv_rate                  0\n",
      "diff_srv_rate                  0\n",
      "srv_diff_host_rate             0\n",
      "dst_host_count                 0\n",
      "dst_host_srv_count             0\n",
      "dst_host_same_srv_rate         0\n",
      "dst_host_diff_srv_rate         0\n",
      "dst_host_same_src_port_rate    0\n",
      "dst_host_srv_dff_host_rate     0\n",
      "dst_host_serror_rate           0\n",
      "dst_host_srv_serror_rate       0\n",
      "dst_host_rerror_rate           0\n",
      "dst_host_srv_rerror_rate       0\n",
      "attack-type                    0\n",
      "dtype: int64\n"
     ]
    }
   ],
   "source": [
    "print('No. of rows in Test data:', test_data.shape[0])\n",
    "print('No. of columns in Test data:', test_data.shape[1])\n",
    "print('No. of rows in Test data:', train_data.shape[0])\n",
    "print('No. of columns in Test data:', train_data.shape[1])\n",
    "print('\\nNull values in test data: \\n', test_data.isnull().sum())\n",
    "print('\\nNull values in train data: \\n', train_data.isnull().sum())\n"
   ]
  },
  {
   "cell_type": "markdown",
   "metadata": {},
   "source": [
    "#### Observation:\n",
    "In test_data, there are 9 rows of null values. So, lets remove them."
   ]
  },
  {
   "cell_type": "code",
   "execution_count": null,
   "metadata": {},
   "outputs": [],
   "source": []
  },
  {
   "cell_type": "markdown",
   "metadata": {},
   "source": [
    "### 2. Data Wrangling\n"
   ]
  },
  {
   "cell_type": "markdown",
   "metadata": {},
   "source": [
    "#### 2.1 Missing Values"
   ]
  },
  {
   "cell_type": "code",
   "execution_count": 55,
   "metadata": {},
   "outputs": [],
   "source": [
    "test_data=test_data.dropna()"
   ]
  },
  {
   "cell_type": "code",
   "execution_count": 56,
   "metadata": {},
   "outputs": [
    {
     "data": {
      "text/plain": [
       "(3085, 42)"
      ]
     },
     "execution_count": 56,
     "metadata": {},
     "output_type": "execute_result"
    }
   ],
   "source": [
    "test_data.shape"
   ]
  },
  {
   "cell_type": "markdown",
   "metadata": {},
   "source": [
    "####  2.2 Duplicate Values"
   ]
  },
  {
   "cell_type": "code",
   "execution_count": 71,
   "metadata": {},
   "outputs": [
    {
     "name": "stdout",
     "output_type": "stream",
     "text": [
      "Rows after removing duplicates in test data (1875, 42)\n",
      "Rows after removing duplicates in train data (3693, 42)\n"
     ]
    }
   ],
   "source": [
    "test_data=test_data.drop_duplicates()\n",
    "train_data=train_data.drop_duplicates()\n",
    "\n",
    "print('Rows after removing duplicates in test data',test_data.shape)\n",
    "print('Rows after removing duplicates in train data',train_data.shape)\n"
   ]
  },
  {
   "cell_type": "markdown",
   "metadata": {},
   "source": [
    "#### 2.3 Categorize numeric features\n",
    "There are three features which are categorical (protocol-type,service and flag). We use one-hot-encoding to convert into numerical "
   ]
  },
  {
   "cell_type": "code",
   "execution_count": 86,
   "metadata": {},
   "outputs": [
    {
     "name": "stdout",
     "output_type": "stream",
     "text": [
      "Protocol types: ['udp' 'tcp' 'icmp'] \n",
      "\n",
      "Service types: ['private' 'auth' 'courier' 'domain_u' 'echo' 'eco_i' 'ecr_i' 'finger'\n",
      " 'ftp' 'ftp_data' 'gopher' 'http' 'imap4' 'iso_tsap' 'login' 'ntp_u'\n",
      " 'other' 'pop_3' 'shell' 'smtp' 'sunrpc' 'telnet' 'urp_i'] \n",
      "\n",
      "Flag types: ['SF' 'REJ' 'RSTO' 'S0' 'RSTR' 'SH' 'S3']\n"
     ]
    }
   ],
   "source": [
    "#test_data.dtypes gives us protocol_type, service and flags as categorical varibales\n",
    "print('Protocol types:',test_data['protocol-type'].unique(),'\\n')\n",
    "print('Service types:',test_data['service'].unique(),'\\n')\n",
    "print('Flag types:',test_data['flag'].unique())\n"
   ]
  },
  {
   "cell_type": "code",
   "execution_count": null,
   "metadata": {},
   "outputs": [],
   "source": []
  },
  {
   "cell_type": "markdown",
   "metadata": {},
   "source": [
    "#### Plotting the protocol types as a pie chart"
   ]
  },
  {
   "cell_type": "code",
   "execution_count": 211,
   "metadata": {},
   "outputs": [
    {
     "data": {
      "image/png": "[encoded data removed]",
      "text/plain": [
       "<Figure size 504x360 with 1 Axes>"
      ]
     },
     "metadata": {},
     "output_type": "display_data"
    },
    {
     "data": {
      "image/png": "[encoded data removed]",
      "text/plain": [
       "<Figure size 504x360 with 1 Axes>"
      ]
     },
     "metadata": {},
     "output_type": "display_data"
    }
   ],
   "source": [
    "for data in zip([test_data, train_data], ['Test-Data', 'Train-Data']):\n",
    "    labels = list(data[0]['protocol-type'].value_counts().index)\n",
    "    sizes = list(data[0]['protocol-type'].value_counts().values)\n",
    "    explode = (0, 0, 0.2)  # only \"explode\" the 2nd slice (i.e. 'Hogs')\n",
    "\n",
    "    fig1, ax1 = plt.subplots(figsize=(7,5))\n",
    "    ax1.pie(sizes, explode=explode, labels=labels, autopct='%1.1f%%',\n",
    "        shadow=True, startangle=180)\n",
    "\n",
    "    ax1.axis('equal')  \n",
    "    ax1.set_title('Protocol-Type Volume in '+ data[1]+':\\n')\n",
    "\n",
    "    plt.show()"
   ]
  },
  {
   "cell_type": "code",
   "execution_count": null,
   "metadata": {},
   "outputs": [],
   "source": []
  },
  {
   "cell_type": "code",
   "execution_count": null,
   "metadata": {},
   "outputs": [],
   "source": []
  }
 ],
 "metadata": {
  "kernelspec": {
   "display_name": "Python 3",
   "language": "python",
   "name": "python3"
  },
  "language_info": {
   "codemirror_mode": {
    "name": "ipython",
    "version": 3
   },
   "file_extension": ".py",
   "mimetype": "text/x-python",
   "name": "python",
   "nbconvert_exporter": "python",
   "pygments_lexer": "ipython3",
   "version": "3.6.8"
  }
 },
 "nbformat": 4,
 "nbformat_minor": 2
}
